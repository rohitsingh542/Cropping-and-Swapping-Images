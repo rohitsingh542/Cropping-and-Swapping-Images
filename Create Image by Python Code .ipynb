{
 "cells": [
  {
   "cell_type": "code",
   "execution_count": 6,
   "metadata": {},
   "outputs": [],
   "source": [
    "import cv2\n",
    "import numpy as np"
   ]
  },
  {
   "cell_type": "code",
   "execution_count": 7,
   "metadata": {},
   "outputs": [
    {
     "data": {
      "text/plain": [
       "(500, 500, 3)"
      ]
     },
     "execution_count": 7,
     "metadata": {},
     "output_type": "execute_result"
    }
   ],
   "source": [
    "image = np.zeros((500,500,3))\n",
    "image.shape"
   ]
  },
  {
   "cell_type": "code",
   "execution_count": 8,
   "metadata": {},
   "outputs": [],
   "source": [
    "# color filling\n",
    "image[200:300 ,200:300] = [225,225,255]\n",
    "image[100:200 ,100:200] = [0,0,255]\n",
    "image[100:200 ,300:400] = [255,0,0]\n",
    "image[100:200 ,200:300] = [0,255,0]\n",
    "image[300:400 ,200:300] = [0,128,255]\n",
    "image[300:400 ,300:400] = [255, 165,0]\n",
    "image[200:300 ,300:400] = [0,0,255]\n",
    "image[200:300 ,100:200] = [0,128,255]\n",
    "image[300:400 ,100:200] = [255,0,0]"
   ]
  },
  {
   "cell_type": "code",
   "execution_count": 9,
   "metadata": {},
   "outputs": [],
   "source": [
    "border = cv2.rectangle(image, (100,100),(400,400),[225,225,225],10)\n",
    "\n",
    "inner_border = cv2.rectangle(image, (200,200),(300,300),[225,225,225])\n",
    "inner_border1 = cv2.rectangle(image, (100,100),(200,200),[225,225,225])\n",
    "inner_border2 = cv2.rectangle(image, (100,300),(200,400),[225,225,225])\n",
    "inner_border3 = cv2.rectangle(image, (300,100),(400,200),[225,225,225])\n",
    "inner_border4 = cv2.rectangle(image, (300,300),(400,400),[225,225,225])\n"
   ]
  },
  {
   "cell_type": "code",
   "execution_count": 10,
   "metadata": {},
   "outputs": [],
   "source": [
    "cv2.imshow('background', image)\n",
    "cv2.waitKey()\n",
    "cv2.destroyAllWindows()"
   ]
  },
  {
   "cell_type": "code",
   "execution_count": null,
   "metadata": {},
   "outputs": [],
   "source": []
  },
  {
   "cell_type": "markdown",
   "metadata": {},
   "source": [
    " "
   ]
  }
 ],
 "metadata": {
  "kernelspec": {
   "display_name": "Python 3",
   "language": "python",
   "name": "python3"
  },
  "language_info": {
   "codemirror_mode": {
    "name": "ipython",
    "version": 3
   },
   "file_extension": ".py",
   "mimetype": "text/x-python",
   "name": "python",
   "nbconvert_exporter": "python",
   "pygments_lexer": "ipython3",
   "version": "3.7.3"
  }
 },
 "nbformat": 4,
 "nbformat_minor": 2
}
